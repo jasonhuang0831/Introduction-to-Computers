{
  "nbformat": 4,
  "nbformat_minor": 0,
  "metadata": {
    "colab": {
      "provenance": [],
      "authorship_tag": "ABX9TyOhZefzAH3oVkYHWlQLBCj0",
      "include_colab_link": true
    },
    "kernelspec": {
      "name": "python3",
      "display_name": "Python 3"
    },
    "language_info": {
      "name": "python"
    }
  },
  "cells": [
    {
      "cell_type": "markdown",
      "metadata": {
        "id": "view-in-github",
        "colab_type": "text"
      },
      "source": [
        "<a href=\"https://colab.research.google.com/github/jasonhuang0831/Introduction-to-Computers/blob/main/0517.ipynb\" target=\"_parent\"><img src=\"https://colab.research.google.com/assets/colab-badge.svg\" alt=\"Open In Colab\"/></a>"
      ]
    },
    {
      "cell_type": "code",
      "source": [
        "score=int(input(\"score: \"))\n",
        "if score>=90:\n",
        "  print(\"Grade is: A\")\n",
        "elif score>=80:\n",
        "  print(\"Grade is: B\")\n",
        "elif score>=70:\n",
        "  print(\"Grade is: C\")\n",
        "elif score>=60:\n",
        "  print(\"Grade is: D\")\n",
        "else:\n",
        "  print(\"Grade is: F\")"
      ],
      "metadata": {
        "colab": {
          "base_uri": "https://localhost:8080/"
        },
        "id": "6xfDz4pywwSY",
        "outputId": "875db151-2f06-4cbf-d7bc-e101cd569e3f"
      },
      "execution_count": 23,
      "outputs": [
        {
          "output_type": "stream",
          "name": "stdout",
          "text": [
            "score: 50\n",
            "Grade is: F\n"
          ]
        }
      ]
    },
    {
      "cell_type": "code",
      "source": [
        "T=float(input(\"溫度:\"))\n",
        "if T>=37.5:\n",
        "  print(\"體溫過高\")\n",
        "elif T<=37.4 and T>=37:\n",
        "  print(\"體溫略高\")\n",
        "elif T<=36.9 and T>=34:\n",
        "  print(\"體溫正常\")\n",
        "else:\n",
        "  print(\"體溫異常!請重新測量!\")"
      ],
      "metadata": {
        "colab": {
          "base_uri": "https://localhost:8080/"
        },
        "id": "rNAIkho8tYmc",
        "outputId": "2f38e7e3-8754-44f5-96c1-b19170a73493"
      },
      "execution_count": 16,
      "outputs": [
        {
          "output_type": "stream",
          "name": "stdout",
          "text": [
            "溫度:33\n",
            "體溫異常!請重新測量!\n"
          ]
        }
      ]
    },
    {
      "cell_type": "code",
      "execution_count": 5,
      "metadata": {
        "colab": {
          "base_uri": "https://localhost:8080/"
        },
        "id": "TDKQoA1frAYy",
        "outputId": "9e05e1e0-7c15-476a-efa5-dc1662a2d034"
      },
      "outputs": [
        {
          "output_type": "stream",
          "name": "stdout",
          "text": [
            "score: 65\n",
            "Grade is: D\n"
          ]
        }
      ],
      "source": [
        "score=int(input(\"請輸入成績: \"))\n",
        "if score>=90:\n",
        "  print(\"Grade is: A\")\n",
        "elif score>=80:\n",
        "  print(\"Grade is: B\")\n",
        "elif score>=70:\n",
        "  print(\"Grade is: C\")\n",
        "elif score>=60:\n",
        "  print(\"Grade is: D\")\n",
        "else:\n",
        "  print(\"Grade is: E\")"
      ]
    },
    {
      "cell_type": "code",
      "source": [
        "month=int(input(\"請輸入月份(阿拉伯數字):\"))\n",
        "if(month>=1 and month<=12):\n",
        "  if(month==3 or month==4 or month==5):\n",
        "    print(\"%d月是春天!\"%month)\n",
        "  elif(month==6 or month==7 or month==8):\n",
        "    print(\"%d月是夏天!\"%month)\n",
        "  elif(month==9 or month==10 or month==11):\n",
        "    print(\"%d月是秋天!\"%month)\n",
        "  elif(month==12 or month==1 or month==2):\n",
        "    print(\"%d月是冬天!\"%month)\n",
        "else:\n",
        "  print(\"輸入錯誤!%d月不在範圍內!\"%month)"
      ],
      "metadata": {
        "colab": {
          "base_uri": "https://localhost:8080/"
        },
        "id": "IA8S_9aNvBDP",
        "outputId": "65873937-6c65-42ac-86f6-f3109716192d"
      },
      "execution_count": 17,
      "outputs": [
        {
          "output_type": "stream",
          "name": "stdout",
          "text": [
            "請輸入月份(阿拉伯數字):7\n",
            "7月是秋天!\n"
          ]
        }
      ]
    },
    {
      "cell_type": "code",
      "source": [
        "P=int(input(\"請輸入今年輸入淨額:\"))\n",
        "if P>=2000000:\n",
        "  t=P*0.3\n",
        "  print(\"付稅金額:%d\"%t)\n",
        "elif P>=1000000:\n",
        "  t=P*0.21\n",
        "  print(\"付稅金額:%d\"%t)\n",
        "elif P>=600000:\n",
        "  t=P*0.13\n",
        "  print(\"付稅金額:%d\"%t)\n",
        "elif P>=300000:\n",
        "  t=P*0.06\n",
        "  print(\"付稅金額:%d\"%t)\n",
        "else:\n",
        "  t=P*0\n",
        "  print(\"付稅金額:%d\"%t)"
      ],
      "metadata": {
        "colab": {
          "base_uri": "https://localhost:8080/"
        },
        "id": "JRBKV2RXvwPe",
        "outputId": "4726804a-53bf-4cd0-fb2a-7694743b05ff"
      },
      "execution_count": 22,
      "outputs": [
        {
          "output_type": "stream",
          "name": "stdout",
          "text": [
            "請輸入今年輸入淨額:100000\n",
            "付稅金額:0\n"
          ]
        }
      ]
    }
  ]
}